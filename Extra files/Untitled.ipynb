{
 "cells": [
  {
   "cell_type": "markdown",
   "id": "1b3e483f",
   "metadata": {},
   "source": [
    "# Formatter  & filtrer datasets\n"
   ]
  },
  {
   "cell_type": "markdown",
   "id": "b4f5b33d",
   "metadata": {},
   "source": [
    "### importer fichiers (JSON)\n"
   ]
  },
  {
   "cell_type": "code",
   "execution_count": 8,
   "id": "804d2e8a",
   "metadata": {},
   "outputs": [],
   "source": [
    "# importer libraries\n",
    "import json\n",
    "import os"
   ]
  },
  {
   "cell_type": "code",
   "execution_count": 9,
   "id": "ace061b9",
   "metadata": {},
   "outputs": [],
   "source": [
    "# get  volcano events\n",
    "with open(\"../Datasets/volcano_events.json\") as file:\n",
    "    eruptions = json.load(file)\n",
    "\n",
    "# get locations\n",
    "with open(\"../Datasets/volcano_locations.json\") as file:\n",
    "    locations = json.load(file)\n",
    "\n",
    "# get tsunamis\n",
    "with open(\"../Datasets/tsunamis_events.json\") as file:\n",
    "    tsunamis = json.load(file)\n",
    "\n",
    "# get earthquakes\n",
    "with open(\"../Datasets/earthquakes_events.json\") as file:\n",
    "    earthquakes= json.load(file)"
   ]
  },
  {
   "cell_type": "markdown",
   "id": "fa9f4b07",
   "metadata": {},
   "source": [
    "### filtrer mort > 0"
   ]
  },
  {
   "cell_type": "code",
   "execution_count": 11,
   "id": "def9c81d",
   "metadata": {},
   "outputs": [],
   "source": [
    "# volcanos\n",
    "eruptions = [event for event in eruptions if \"deathsAmountOrder\" in event]\n",
    "eruptions = [event for event in eruptions if event[\"deathsAmountOrder\"] > 0]\n",
    "# tsunamis\n",
    "tsunamis = [event for event in tsunamis if \"deathsAmountOrder\" in event]\n",
    "tsunamis = [event for event in tsunamis if event[\"deathsAmountOrder\"] > 0]\n",
    "# earthquakes\n",
    "earthquakes = [event for event in earthquakes if \"deathsAmountOrder\" in event]\n",
    "earthquakes = [event for event in earthquakes if event[\"deathsAmountOrder\"] > 0]\n"
   ]
  },
  {
   "cell_type": "code",
   "execution_count": 12,
   "id": "b4f7b42b",
   "metadata": {},
   "outputs": [
    {
     "name": "stdout",
     "output_type": "stream",
     "text": [
      "587\n",
      "585\n"
     ]
    }
   ],
   "source": [
    "# volcanos\n",
    "eruptions = [event for event in eruptions if \"deathsAmountOrder\" in event]\n",
    "eruptions = [event for event in eruptions if event[\"year\"] > -4000]\n",
    "\n",
    "# tsunamis\n",
    "tsunamis = [event for event in tsunamis if \"deathsAmountOrder\" in event]\n",
    "tsunamis = [event for event in tsunamis if event[\"year\"] > -4000]\n",
    "# earthquakes\n",
    "earthquakes = [event for event in earthquakes if \"deathsAmountOrder\" in event]\n",
    "earthquakes = [event for event in earthquakes if event[\"year\"] > -4000]"
   ]
  },
  {
   "cell_type": "markdown",
   "id": "40ae53ed",
   "metadata": {},
   "source": [
    "### ajouter infos volcano locations dans volcano events"
   ]
  },
  {
   "cell_type": "code",
   "execution_count": 5,
   "id": "68bad736",
   "metadata": {},
   "outputs": [],
   "source": [
    "# for each event get corresponding location and append country and extract useful informations\n",
    "\n",
    "for event in eruptions:\n",
    "    location = [volc for volc in locations if volc[\"id\"] == event[\"volcanoLocationId\"]][0]\n",
    "    event[\"country\"] = location[\"country\"]\n",
    "    event[\"location\"] = location[\"location\"]\n",
    "    event[\"latitude\"] = location[\"latitude\"]\n",
    "    event[\"longitude\"] = location[\"longitude\"]\n",
    "    event[\"name\"] = location[\"name\"]\n",
    "\n"
   ]
  },
  {
   "cell_type": "markdown",
   "id": "6ab6810d",
   "metadata": {},
   "source": [
    "### exporter fichiers"
   ]
  },
  {
   "cell_type": "code",
   "execution_count": 6,
   "id": "2434b124",
   "metadata": {},
   "outputs": [],
   "source": [
    "# volcans\n",
    "with open(\"../Datasets_formatted/volcano_events_formatted.json\", \"w\") as file:\n",
    "    file.write(json.dumps(eruptions , indent=4, sort_keys=False))\n",
    "    \n",
    "# tsunamis\n",
    "with open(\"../Datasets_formatted/tsunamis_events_formatted.json\", \"w\") as file:\n",
    "    file.write(json.dumps(tsunamis , indent=4, sort_keys=False))\n",
    "    \n",
    "# earthquakes\n",
    "with open(\"../Datasets_formatted/earthquakes_events_formatted.json\", \"w\") as file:\n",
    "    file.write(json.dumps(earthquakes , indent=4, sort_keys=False)) "
   ]
  }
 ],
 "metadata": {
  "kernelspec": {
   "display_name": "Python 3",
   "language": "python",
   "name": "python3"
  },
  "language_info": {
   "codemirror_mode": {
    "name": "ipython",
    "version": 3
   },
   "file_extension": ".py",
   "mimetype": "text/x-python",
   "name": "python",
   "nbconvert_exporter": "python",
   "pygments_lexer": "ipython3",
   "version": "3.9.1"
  }
 },
 "nbformat": 4,
 "nbformat_minor": 5
}
